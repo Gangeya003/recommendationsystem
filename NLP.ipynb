{
 "cells": [
  {
   "cell_type": "code",
   "execution_count": 7,
   "metadata": {},
   "outputs": [],
   "source": [
    "import pandas as pd"
   ]
  },
  {
   "cell_type": "code",
   "execution_count": 8,
   "metadata": {},
   "outputs": [],
   "source": [
    "import speech_recognition as sr"
   ]
  },
  {
   "cell_type": "code",
   "execution_count": 9,
   "metadata": {},
   "outputs": [],
   "source": [
    "import pyaudio"
   ]
  },
  {
   "cell_type": "code",
   "execution_count": 10,
   "metadata": {},
   "outputs": [
    {
     "data": {
      "text/plain": [
       "['Microsoft Sound Mapper - Input',\n",
       " 'Microphone Array (Realtek High ',\n",
       " 'Microsoft Sound Mapper - Output',\n",
       " 'Speaker/Headphone (Realtek High',\n",
       " 'Primary Sound Capture Driver',\n",
       " 'Microphone Array (Realtek High Definition Audio)',\n",
       " 'Primary Sound Driver',\n",
       " 'Speaker/Headphone (Realtek High Definition Audio)',\n",
       " 'Speaker/Headphone (Realtek High Definition Audio)',\n",
       " 'Microphone Array (Realtek High Definition Audio)',\n",
       " 'Mic in at front panel (black) (Mic in at front panel (black))',\n",
       " 'Stereo Mix (Realtek HD Audio Stereo input)',\n",
       " 'Speakers (Realtek HD Audio output)',\n",
       " 'Headphones (Realtek HD Audio 2nd output)',\n",
       " 'Microphone Array (Realtek HD Audio Mic input)']"
      ]
     },
     "execution_count": 10,
     "metadata": {},
     "output_type": "execute_result"
    }
   ],
   "source": [
    "sr.Microphone.list_microphone_names()"
   ]
  },
  {
   "cell_type": "code",
   "execution_count": 11,
   "metadata": {},
   "outputs": [],
   "source": [
    "import webbrowser"
   ]
  },
  {
   "cell_type": "code",
   "execution_count": 20,
   "metadata": {},
   "outputs": [
    {
     "name": "stdout",
     "output_type": "stream",
     "text": [
      "Hello!\n",
      "Listening...\n",
      "You said: TV\n"
     ]
    }
   ],
   "source": [
    "sr.Microphone(device_index=1)\n",
    "r = sr.Recognizer()\n",
    "r.energy_threshold = 2000\n",
    "\n",
    "with sr.Microphone() as source:\n",
    "    print(\"Hello!\\nListening...\")\n",
    "    audio=r.listen(source)\n",
    "    try:\n",
    "        text=r.recognize_google(audio)\n",
    "        print(\"You said: \"+text)\n",
    "        url=\"https://www.amazon.in/s?k=\"\n",
    "        search_url=url+text\n",
    "        webbrowser.open(search_url)\n",
    "        #with sr.Microphone() as source:\n",
    "         #   print(\"Do you like to visit that site:\")\n",
    "          #  audio=r.listen(source)\n",
    "           # try:\n",
    "            #    t = r.recognize_google(audio)\n",
    "             #   if t=='yes' or t=='yea' or t=='yeah':\n",
    "              #      webbrowser.open(search_url)\n",
    "            #except:\n",
    "             #   print(\"Can't recognize\")\n",
    "    except:\n",
    "        print(\"Can't recognize\")"
   ]
  },
  {
   "cell_type": "code",
   "execution_count": null,
   "metadata": {},
   "outputs": [],
   "source": []
  },
  {
   "cell_type": "code",
   "execution_count": null,
   "metadata": {},
   "outputs": [],
   "source": []
  }
 ],
 "metadata": {
  "kernelspec": {
   "display_name": "Python 3",
   "language": "python",
   "name": "python3"
  },
  "language_info": {
   "codemirror_mode": {
    "name": "ipython",
    "version": 3
   },
   "file_extension": ".py",
   "mimetype": "text/x-python",
   "name": "python",
   "nbconvert_exporter": "python",
   "pygments_lexer": "ipython3",
   "version": "3.7.1"
  }
 },
 "nbformat": 4,
 "nbformat_minor": 2
}
